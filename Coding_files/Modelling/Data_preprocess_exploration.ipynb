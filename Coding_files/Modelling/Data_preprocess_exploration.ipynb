{
 "cells": [
  {
   "cell_type": "code",
   "execution_count": 1,
   "metadata": {
    "colab": {},
    "colab_type": "code",
    "id": "BorxnJsbLAUG"
   },
   "outputs": [],
   "source": [
    "import pandas as pd\n",
    "import numpy as np\n",
    "import matplotlib.pyplot as plt\n",
    "import seaborn as sns\n",
    "plt.style.use('ggplot')\n",
    "\n",
    "%matplotlib inline"
   ]
  },
  {
   "cell_type": "code",
   "execution_count": 2,
   "metadata": {
    "colab": {
     "base_uri": "https://localhost:8080/",
     "height": 204
    },
    "colab_type": "code",
    "id": "lfmr06HgLbKY",
    "outputId": "55bbac7c-9e3a-417c-b51f-c2dcb5559b32"
   },
   "outputs": [
    {
     "data": {
      "text/html": [
       "<div>\n",
       "<style scoped>\n",
       "    .dataframe tbody tr th:only-of-type {\n",
       "        vertical-align: middle;\n",
       "    }\n",
       "\n",
       "    .dataframe tbody tr th {\n",
       "        vertical-align: top;\n",
       "    }\n",
       "\n",
       "    .dataframe thead th {\n",
       "        text-align: right;\n",
       "    }\n",
       "</style>\n",
       "<table border=\"1\" class=\"dataframe\">\n",
       "  <thead>\n",
       "    <tr style=\"text-align: right;\">\n",
       "      <th></th>\n",
       "      <th>Price</th>\n",
       "      <th>District</th>\n",
       "      <th>Type of Home</th>\n",
       "      <th>Building Name</th>\n",
       "      <th>Guest</th>\n",
       "      <th>Bedroom</th>\n",
       "      <th>Bathroom</th>\n",
       "    </tr>\n",
       "  </thead>\n",
       "  <tbody>\n",
       "    <tr>\n",
       "      <th>0</th>\n",
       "      <td>127.0</td>\n",
       "      <td>Ba Đình</td>\n",
       "      <td>Condominium</td>\n",
       "      <td>Vinhomes Metropolis</td>\n",
       "      <td>8</td>\n",
       "      <td>3</td>\n",
       "      <td>2</td>\n",
       "    </tr>\n",
       "    <tr>\n",
       "      <th>1</th>\n",
       "      <td>79.0</td>\n",
       "      <td>Ba Đình</td>\n",
       "      <td>Condominium</td>\n",
       "      <td>Vinhomes Metropolis</td>\n",
       "      <td>4</td>\n",
       "      <td>2</td>\n",
       "      <td>2</td>\n",
       "    </tr>\n",
       "    <tr>\n",
       "      <th>2</th>\n",
       "      <td>71.0</td>\n",
       "      <td>Ba Đình</td>\n",
       "      <td>Condominium</td>\n",
       "      <td>Vinhomes Metropolis</td>\n",
       "      <td>5</td>\n",
       "      <td>2</td>\n",
       "      <td>2</td>\n",
       "    </tr>\n",
       "    <tr>\n",
       "      <th>3</th>\n",
       "      <td>83.0</td>\n",
       "      <td>Ba Đình</td>\n",
       "      <td>Condominium</td>\n",
       "      <td>Vinhomes Metropolis</td>\n",
       "      <td>4</td>\n",
       "      <td>2</td>\n",
       "      <td>2</td>\n",
       "    </tr>\n",
       "    <tr>\n",
       "      <th>4</th>\n",
       "      <td>71.0</td>\n",
       "      <td>Ba Đình</td>\n",
       "      <td>Condominium</td>\n",
       "      <td>None</td>\n",
       "      <td>4</td>\n",
       "      <td>2</td>\n",
       "      <td>2</td>\n",
       "    </tr>\n",
       "  </tbody>\n",
       "</table>\n",
       "</div>"
      ],
      "text/plain": [
       "   Price District Type of Home         Building Name  Guest  Bedroom  Bathroom\n",
       "0  127.0  Ba Đình  Condominium   Vinhomes Metropolis      8        3         2\n",
       "1   79.0  Ba Đình  Condominium   Vinhomes Metropolis      4        2         2\n",
       "2   71.0  Ba Đình  Condominium   Vinhomes Metropolis      5        2         2\n",
       "3   83.0  Ba Đình  Condominium   Vinhomes Metropolis      4        2         2\n",
       "4   71.0  Ba Đình  Condominium                  None      4        2         2"
      ]
     },
     "execution_count": 2,
     "metadata": {},
     "output_type": "execute_result"
    }
   ],
   "source": [
    "url= 'https://raw.githubusercontent.com/namnamu97/Predicitve-Model-on-Luxstay-Rental-prices/master/luxstay_hanoi_27-12-2019_clean.csv'\n",
    "df= pd.read_csv(url)\n",
    "df.drop('Link', axis= 1, inplace= True)\n",
    "df.head()"
   ]
  },
  {
   "cell_type": "code",
   "execution_count": 3,
   "metadata": {
    "colab": {},
    "colab_type": "code",
    "id": "111yK0L-OxaI"
   },
   "outputs": [],
   "source": [
    "#rename columns for convinience\n",
    "df.rename(columns= {'Price': 'price', 'District':'district', 'Type of Home': 'type', \n",
    "                    'Building Name':'building', 'Guest': 'guest', 'Bedroom': 'bedroom', 'Bathroom': 'bathroom'}, inplace= True)"
   ]
  },
  {
   "cell_type": "code",
   "execution_count": 4,
   "metadata": {
    "colab": {
     "base_uri": "https://localhost:8080/",
     "height": 255
    },
    "colab_type": "code",
    "id": "xV2IfE5UNLpj",
    "outputId": "368b4819-6d1f-4301-cb64-a553e557ed39"
   },
   "outputs": [
    {
     "name": "stdout",
     "output_type": "stream",
     "text": [
      "<class 'pandas.core.frame.DataFrame'>\n",
      "RangeIndex: 2675 entries, 0 to 2674\n",
      "Data columns (total 7 columns):\n",
      " #   Column    Non-Null Count  Dtype  \n",
      "---  ------    --------------  -----  \n",
      " 0   price     2675 non-null   float64\n",
      " 1   district  2675 non-null   object \n",
      " 2   type      2675 non-null   object \n",
      " 3   building  2675 non-null   object \n",
      " 4   guest     2675 non-null   int64  \n",
      " 5   bedroom   2675 non-null   int64  \n",
      " 6   bathroom  2675 non-null   int64  \n",
      "dtypes: float64(1), int64(3), object(3)\n",
      "memory usage: 146.4+ KB\n"
     ]
    }
   ],
   "source": [
    "df.info()"
   ]
  },
  {
   "cell_type": "code",
   "execution_count": 5,
   "metadata": {
    "colab": {
     "base_uri": "https://localhost:8080/",
     "height": 297
    },
    "colab_type": "code",
    "id": "NDm7sqH4OimG",
    "outputId": "3d1cf2f6-7a44-4151-c5ae-8bf4f9e74032"
   },
   "outputs": [
    {
     "data": {
      "text/html": [
       "<div>\n",
       "<style scoped>\n",
       "    .dataframe tbody tr th:only-of-type {\n",
       "        vertical-align: middle;\n",
       "    }\n",
       "\n",
       "    .dataframe tbody tr th {\n",
       "        vertical-align: top;\n",
       "    }\n",
       "\n",
       "    .dataframe thead th {\n",
       "        text-align: right;\n",
       "    }\n",
       "</style>\n",
       "<table border=\"1\" class=\"dataframe\">\n",
       "  <thead>\n",
       "    <tr style=\"text-align: right;\">\n",
       "      <th></th>\n",
       "      <th>price</th>\n",
       "      <th>guest</th>\n",
       "      <th>bedroom</th>\n",
       "      <th>bathroom</th>\n",
       "    </tr>\n",
       "  </thead>\n",
       "  <tbody>\n",
       "    <tr>\n",
       "      <th>count</th>\n",
       "      <td>2675.00</td>\n",
       "      <td>2675.00</td>\n",
       "      <td>2675.00</td>\n",
       "      <td>2675.00</td>\n",
       "    </tr>\n",
       "    <tr>\n",
       "      <th>mean</th>\n",
       "      <td>51.89</td>\n",
       "      <td>4.65</td>\n",
       "      <td>1.63</td>\n",
       "      <td>1.49</td>\n",
       "    </tr>\n",
       "    <tr>\n",
       "      <th>std</th>\n",
       "      <td>55.48</td>\n",
       "      <td>4.50</td>\n",
       "      <td>1.09</td>\n",
       "      <td>1.00</td>\n",
       "    </tr>\n",
       "    <tr>\n",
       "      <th>min</th>\n",
       "      <td>8.00</td>\n",
       "      <td>1.00</td>\n",
       "      <td>1.00</td>\n",
       "      <td>1.00</td>\n",
       "    </tr>\n",
       "    <tr>\n",
       "      <th>25%</th>\n",
       "      <td>24.00</td>\n",
       "      <td>2.00</td>\n",
       "      <td>1.00</td>\n",
       "      <td>1.00</td>\n",
       "    </tr>\n",
       "    <tr>\n",
       "      <th>50%</th>\n",
       "      <td>35.00</td>\n",
       "      <td>4.00</td>\n",
       "      <td>1.00</td>\n",
       "      <td>1.00</td>\n",
       "    </tr>\n",
       "    <tr>\n",
       "      <th>75%</th>\n",
       "      <td>61.00</td>\n",
       "      <td>5.00</td>\n",
       "      <td>2.00</td>\n",
       "      <td>2.00</td>\n",
       "    </tr>\n",
       "    <tr>\n",
       "      <th>max</th>\n",
       "      <td>945.00</td>\n",
       "      <td>60.00</td>\n",
       "      <td>17.00</td>\n",
       "      <td>17.00</td>\n",
       "    </tr>\n",
       "  </tbody>\n",
       "</table>\n",
       "</div>"
      ],
      "text/plain": [
       "         price    guest  bedroom  bathroom\n",
       "count  2675.00  2675.00  2675.00   2675.00\n",
       "mean     51.89     4.65     1.63      1.49\n",
       "std      55.48     4.50     1.09      1.00\n",
       "min       8.00     1.00     1.00      1.00\n",
       "25%      24.00     2.00     1.00      1.00\n",
       "50%      35.00     4.00     1.00      1.00\n",
       "75%      61.00     5.00     2.00      2.00\n",
       "max     945.00    60.00    17.00     17.00"
      ]
     },
     "execution_count": 5,
     "metadata": {},
     "output_type": "execute_result"
    }
   ],
   "source": [
    "df.describe().round(2)"
   ]
  },
  {
   "cell_type": "code",
   "execution_count": 4,
   "metadata": {
    "colab": {
     "base_uri": "https://localhost:8080/",
     "height": 85
    },
    "colab_type": "code",
    "id": "vPlIFfqPLk1i",
    "outputId": "59b4a95a-91cb-4cf2-bb4d-371403a44eed"
   },
   "outputs": [
    {
     "data": {
      "text/plain": [
       "array(['Ba Đình', 'Hai Bà Trưng', 'Tây Hồ', 'Nam Từ Liêm', 'Sóc Sơn',\n",
       "       'Đống Đa', 'Hoàn Kiếm', 'Cầu Giấy', 'Thanh Xuân', 'Long Biên',\n",
       "       'Hoàng Mai', 'Đông Anh', 'Bắc Từ Liêm', 'Ba Vì', 'Hà Đông',\n",
       "       'Thạch Thất', 'Chương Mỹ', 'Quốc Oai', 'Sơn Tây'], dtype=object)"
      ]
     },
     "execution_count": 4,
     "metadata": {},
     "output_type": "execute_result"
    }
   ],
   "source": [
    "df['district'].unique()"
   ]
  },
  {
   "cell_type": "code",
   "execution_count": 5,
   "metadata": {
    "colab": {},
    "colab_type": "code",
    "id": "2O7ShFquNjLk"
   },
   "outputs": [],
   "source": [
    "#rename district without vietnamese tounge\n",
    "df.replace({'district':{'Ba Đình': 'BaDinh', 'Hai Bà Trưng': 'HaiBaTrung', 'Tây Hồ': 'TayHo', 'Nam Từ Liêm': 'NamTuLiem', 'Sóc Sơn': 'SocSon',\n",
    "                       'Đống Đa': 'DongDa', 'Hoàn Kiếm': 'HoanKiem', 'Cầu Giấy': 'CauGiay', 'Thanh Xuân': 'ThanhXuan', 'Long Biên': 'LongBien',\n",
    "                       'Hoàng Mai': 'HoangMai', 'Đông Anh': 'DongAnh', 'Bắc Từ Liêm': 'BacTuLiem', 'Ba Vì': 'BaVi', 'Hà Đông': 'HaDong',\n",
    "                       'Thạch Thất': 'ThachThat', 'Chương Mỹ': 'ChuongMy', 'Quốc Oai': 'QuocOai', 'Sơn Tây': 'SonTay'}}, inplace= True)"
   ]
  },
  {
   "cell_type": "code",
   "execution_count": 6,
   "metadata": {
    "colab": {
     "base_uri": "https://localhost:8080/",
     "height": 85
    },
    "colab_type": "code",
    "id": "4yhWygWn76Pk",
    "outputId": "2ef0c41d-0a17-4837-bc38-6900d6aef49c"
   },
   "outputs": [
    {
     "data": {
      "text/plain": [
       "array(['BaDinh', 'HaiBaTrung', 'TayHo', 'NamTuLiem', 'SocSon', 'DongDa',\n",
       "       'HoanKiem', 'CauGiay', 'ThanhXuan', 'LongBien', 'HoangMai',\n",
       "       'DongAnh', 'BacTuLiem', 'BaVi', 'HaDong', 'ThachThat', 'ChuongMy',\n",
       "       'QuocOai', 'SonTay'], dtype=object)"
      ]
     },
     "execution_count": 6,
     "metadata": {},
     "output_type": "execute_result"
    }
   ],
   "source": [
    "df['district'].unique()"
   ]
  },
  {
   "cell_type": "code",
   "execution_count": 7,
   "metadata": {
    "colab": {
     "base_uri": "https://localhost:8080/",
     "height": 493
    },
    "colab_type": "code",
    "id": "OaJ2Xk-ibIFC",
    "outputId": "0a629aad-050e-491f-8950-0e5b7d2b72ac"
   },
   "outputs": [
    {
     "data": {
      "text/plain": [
       "array([' Vinhomes Metropolis', 'None',\n",
       "       ' Chung cư Sun Grand City Ancora Residence',\n",
       "       ' Vinhomes Times City', ' Vinhomes SkyLake',\n",
       "       ' Vinhomes Nguyễn Chí Thanh', '  Nam Trung Yên', ' Imperia Garden',\n",
       "       ' Chung cư The Artemis', ' Chung cư The Sun Mễ Trì',\n",
       "       '  The Golden Palm', ' Vinhomes Green Bay',\n",
       "       \" Chung cư Vinhomes D' Capitale\\u200e Trần Duy Hưng\",\n",
       "       ' Chung cư Times City Park Hill', ' Indochina Plaza Hanoi (IPH)',\n",
       "       ' Vinhomes Gardenia', ' Chung cư Lancaster Núi Trúc',\n",
       "       ' TNR Goldmark City', ' Hong Kong Tower', ' Vinhomes Royal City',\n",
       "       ' D’. Le Roi Soleil Quảng An', ' Chung cư Mipec Riverside',\n",
       "       ' Chung cư The Link Ciputra', ' Chung cư 30 Phạm Văn Đồng',\n",
       "       ' Chung cư Ecolife Capitol', ' Chung cư Seasons Avenue',\n",
       "       ' Chung cư Eurowindow Multi Complex',\n",
       "       ' Chung cư Hoàng Cầu Skyline', ' Chung cư FLC Green Home',\n",
       "       ' Chung cư D2 Giảng Võ', ' Chung cư MBLand Central Field',\n",
       "       ' Chung cư D’. Le Pont D’or Hoàng Cầu', ' Lotte Center Hà Nội',\n",
       "       ' Biệt thự nghỉ dưỡng Rose Garden Resort', '  Sky Center',\n",
       "       ' Keangnam Hanoi Landmark Tower', ' Chung cư Việt Đức Complex',\n",
       "       ' Cao ốc văn phòng ITT Building', ' Chung cư B4 - B14 Kim Liên',\n",
       "       ' Chung cư Imperial Plaza', ' Chung cư Gelexia Riverside',\n",
       "       ' Chung cư The Legend Tower', ' Chung cư Star City',\n",
       "       ' Chung cư FLC Star Tower', ' Chung cư Mỹ Đình Plaza 2',\n",
       "       ' Chung cư Vinata Tower', ' Chung cư Sun Grand City',\n",
       "       ' Tổ hợp PVV - Vinapharm 60B Nguyễn Huy Tưởng',\n",
       "       ' Chung cư Discovery Complex', ' Chung cư Home City',\n",
       "       ' Chung cư Ecolife Tây Hồ', '  Royal Garden',\n",
       "       '  Louis City Đại Mỗ'], dtype=object)"
      ]
     },
     "execution_count": 7,
     "metadata": {},
     "output_type": "execute_result"
    }
   ],
   "source": [
    "df['building'].unique()"
   ]
  },
  {
   "cell_type": "code",
   "execution_count": 8,
   "metadata": {
    "colab": {},
    "colab_type": "code",
    "id": "4cMm1xmAOzvb"
   },
   "outputs": [],
   "source": [
    "df.replace({'building': {' Vinhomes Metropolis': 'VinhomesMetropolis',\n",
    "       ' Chung cư Sun Grand City Ancora Residence': 'SunGrandCityAncoraResidence',\n",
    "       ' Vinhomes Times City': 'VinhomesTimesCity', ' Vinhomes SkyLake': 'VinhomesSkyLake',\n",
    "       ' Vinhomes Nguyễn Chí Thanh': 'VinhomesNguyenChiThanh', '  Nam Trung Yên': 'NamTrungYen', ' Imperia Garden': 'ImperiaGarden',\n",
    "       ' Chung cư The Artemis': 'TheArtemis', ' Chung cư The Sun Mễ Trì': 'TheSunMetri',\n",
    "       '  The Golden Palm': 'TheGoldenPalm', ' Vinhomes Green Bay': 'VinhomesGreenBay',\n",
    "       \" Chung cư Vinhomes D' Capitale\\u200e Trần Duy Hưng\": 'VinhomesCapitaleTranDuyHung',\n",
    "       ' Chung cư Times City Park Hill': 'TimesCityParkHill', ' Indochina Plaza Hanoi (IPH)': 'IndochinaPlazaHanoi',\n",
    "       ' Vinhomes Gardenia': 'VinhomesGardenia', ' Chung cư Lancaster Núi Trúc': 'LancasterNuiTruc',\n",
    "       ' TNR Goldmark City': 'TNRGoldMarkCity', ' Hong Kong Tower': 'HongKongTower', ' Vinhomes Royal City': 'VinhomesRoyalCity',\n",
    "       ' D’. Le Roi Soleil Quảng An': 'LeRoiSoleilQuangAn', ' Chung cư Mipec Riverside': 'MipecRiverside',\n",
    "       ' Chung cư The Link Ciputra': 'TheLinkCiputra', ' Chung cư 30 Phạm Văn Đồng': '30PhamVanDong',\n",
    "       ' Chung cư Ecolife Capitol': 'EcolifeCapitol', ' Chung cư Seasons Avenue': 'SeasonsAvenue',\n",
    "       ' Chung cư Eurowindow Multi Complex': 'EuroWindowMultiComplex',\n",
    "       ' Chung cư Hoàng Cầu Skyline': 'HoangCauSkyline', ' Chung cư FLC Green Home': 'FLCGreenHome',\n",
    "       ' Chung cư D2 Giảng Võ': 'D2GiangVo', ' Chung cư MBLand Central Field': 'MBLandCentralField',\n",
    "       ' Chung cư D’. Le Pont D’or Hoàng Cầu': 'DLePontDorHoangCau', ' Lotte Center Hà Nội': 'LotteCenterHanoi',\n",
    "       ' Biệt thự nghỉ dưỡng Rose Garden Resort': 'RoseGardenResort', '  Sky Center': 'SkyCenter',\n",
    "       ' Keangnam Hanoi Landmark Tower': 'KeangamHanoiLandmarkTower', ' Chung cư Việt Đức Complex': 'VietDucComplex',\n",
    "       ' Cao ốc văn phòng ITT Building': 'ITTBuilding', ' Chung cư B4 - B14 Kim Liên': 'B4B14KimLien',\n",
    "       ' Chung cư Imperial Plaza': 'ImperialPlaza', ' Chung cư Gelexia Riverside': 'GelexiaRiverside',\n",
    "       ' Chung cư The Legend Tower': 'TheLegendTower', ' Chung cư Star City': 'StarCity',\n",
    "       ' Chung cư FLC Star Tower': 'FLCStarTower', ' Chung cư Mỹ Đình Plaza 2': 'MyDinhPlaza2',\n",
    "       ' Chung cư Vinata Tower': 'VinataTower', ' Chung cư Sun Grand City': 'SunGrandCity',\n",
    "       ' Tổ hợp PVV - Vinapharm 60B Nguyễn Huy Tưởng': 'PVVVinapharmNguyenHuyTuong',\n",
    "       ' Chung cư Discovery Complex': 'DiscoveryComplex', ' Chung cư Home City': 'HomeCity',\n",
    "       ' Chung cư Ecolife Tây Hồ': 'EcolifeTayHo', '  Royal Garden':'RoyalGarden',\n",
    "       '  Louis City Đại Mỗ': 'LouisCityDaMo'}}, inplace= True)"
   ]
  },
  {
   "cell_type": "code",
   "execution_count": 9,
   "metadata": {
    "colab": {
     "base_uri": "https://localhost:8080/",
     "height": 306
    },
    "colab_type": "code",
    "id": "s689rLKOV2js",
    "outputId": "ae44c71d-7ff2-45de-a373-4327c56c17b4"
   },
   "outputs": [
    {
     "data": {
      "text/plain": [
       "array(['VinhomesMetropolis', 'None', 'SunGrandCityAncoraResidence',\n",
       "       'VinhomesTimesCity', 'VinhomesSkyLake', 'VinhomesNguyenChiThanh',\n",
       "       'NamTrungYen', 'ImperiaGarden', 'TheArtemis', 'TheSunMetri',\n",
       "       'TheGoldenPalm', 'VinhomesGreenBay', 'VinhomesCapitaleTranDuyHung',\n",
       "       'TimesCityParkHill', 'IndochinaPlazaHanoi', 'VinhomesGardenia',\n",
       "       'LancasterNuiTruc', 'TNRGoldMarkCity', 'HongKongTower',\n",
       "       'VinhomesRoyalCity', 'LeRoiSoleilQuangAn', 'MipecRiverside',\n",
       "       'TheLinkCiputra', '30PhamVanDong', 'EcolifeCapitol',\n",
       "       'SeasonsAvenue', 'EuroWindowMultiComplex', 'HoangCauSkyline',\n",
       "       'FLCGreenHome', 'D2GiangVo', 'MBLandCentralField',\n",
       "       'DLePontDorHoangCau', 'LotteCenterHanoi', 'RoseGardenResort',\n",
       "       'SkyCenter', 'KeangamHanoiLandmarkTower', 'VietDucComplex',\n",
       "       'ITTBuilding', 'B4B14KimLien', 'ImperialPlaza', 'GelexiaRiverside',\n",
       "       'TheLegendTower', 'StarCity', 'FLCStarTower', 'MyDinhPlaza2',\n",
       "       'VinataTower', 'SunGrandCity', 'PVVVinapharmNguyenHuyTuong',\n",
       "       'DiscoveryComplex', 'HomeCity', 'EcolifeTayHo', 'RoyalGarden',\n",
       "       'LouisCityDaMo'], dtype=object)"
      ]
     },
     "execution_count": 9,
     "metadata": {},
     "output_type": "execute_result"
    }
   ],
   "source": [
    "df['building'].unique()"
   ]
  },
  {
   "cell_type": "code",
   "execution_count": 10,
   "metadata": {
    "colab": {
     "base_uri": "https://localhost:8080/",
     "height": 359
    },
    "colab_type": "code",
    "id": "3V-_MbdikLCV",
    "outputId": "4432b40a-2770-46e5-f784-494522a6fe76"
   },
   "outputs": [
    {
     "data": {
      "text/html": [
       "<div>\n",
       "<style scoped>\n",
       "    .dataframe tbody tr th:only-of-type {\n",
       "        vertical-align: middle;\n",
       "    }\n",
       "\n",
       "    .dataframe tbody tr th {\n",
       "        vertical-align: top;\n",
       "    }\n",
       "\n",
       "    .dataframe thead th {\n",
       "        text-align: right;\n",
       "    }\n",
       "</style>\n",
       "<table border=\"1\" class=\"dataframe\">\n",
       "  <thead>\n",
       "    <tr style=\"text-align: right;\">\n",
       "      <th></th>\n",
       "      <th>price</th>\n",
       "      <th>district</th>\n",
       "      <th>type</th>\n",
       "      <th>building</th>\n",
       "      <th>guest</th>\n",
       "      <th>bedroom</th>\n",
       "      <th>bathroom</th>\n",
       "    </tr>\n",
       "  </thead>\n",
       "  <tbody>\n",
       "    <tr>\n",
       "      <th>0</th>\n",
       "      <td>127.0</td>\n",
       "      <td>BaDinh</td>\n",
       "      <td>Condominium</td>\n",
       "      <td>VinhomesMetropolis</td>\n",
       "      <td>8</td>\n",
       "      <td>3</td>\n",
       "      <td>2</td>\n",
       "    </tr>\n",
       "    <tr>\n",
       "      <th>1</th>\n",
       "      <td>79.0</td>\n",
       "      <td>BaDinh</td>\n",
       "      <td>Condominium</td>\n",
       "      <td>VinhomesMetropolis</td>\n",
       "      <td>4</td>\n",
       "      <td>2</td>\n",
       "      <td>2</td>\n",
       "    </tr>\n",
       "    <tr>\n",
       "      <th>2</th>\n",
       "      <td>71.0</td>\n",
       "      <td>BaDinh</td>\n",
       "      <td>Condominium</td>\n",
       "      <td>VinhomesMetropolis</td>\n",
       "      <td>5</td>\n",
       "      <td>2</td>\n",
       "      <td>2</td>\n",
       "    </tr>\n",
       "    <tr>\n",
       "      <th>3</th>\n",
       "      <td>83.0</td>\n",
       "      <td>BaDinh</td>\n",
       "      <td>Condominium</td>\n",
       "      <td>VinhomesMetropolis</td>\n",
       "      <td>4</td>\n",
       "      <td>2</td>\n",
       "      <td>2</td>\n",
       "    </tr>\n",
       "    <tr>\n",
       "      <th>4</th>\n",
       "      <td>71.0</td>\n",
       "      <td>BaDinh</td>\n",
       "      <td>Condominium</td>\n",
       "      <td>None</td>\n",
       "      <td>4</td>\n",
       "      <td>2</td>\n",
       "      <td>2</td>\n",
       "    </tr>\n",
       "    <tr>\n",
       "      <th>5</th>\n",
       "      <td>88.0</td>\n",
       "      <td>BaDinh</td>\n",
       "      <td>Studio Apartment</td>\n",
       "      <td>VinhomesMetropolis</td>\n",
       "      <td>2</td>\n",
       "      <td>1</td>\n",
       "      <td>1</td>\n",
       "    </tr>\n",
       "    <tr>\n",
       "      <th>6</th>\n",
       "      <td>43.0</td>\n",
       "      <td>HaiBaTrung</td>\n",
       "      <td>Condominium</td>\n",
       "      <td>SunGrandCityAncoraResidence</td>\n",
       "      <td>5</td>\n",
       "      <td>2</td>\n",
       "      <td>2</td>\n",
       "    </tr>\n",
       "    <tr>\n",
       "      <th>7</th>\n",
       "      <td>44.0</td>\n",
       "      <td>HaiBaTrung</td>\n",
       "      <td>Condominium</td>\n",
       "      <td>VinhomesTimesCity</td>\n",
       "      <td>3</td>\n",
       "      <td>1</td>\n",
       "      <td>1</td>\n",
       "    </tr>\n",
       "    <tr>\n",
       "      <th>8</th>\n",
       "      <td>53.0</td>\n",
       "      <td>TayHo</td>\n",
       "      <td>Service Apartment</td>\n",
       "      <td>None</td>\n",
       "      <td>3</td>\n",
       "      <td>1</td>\n",
       "      <td>1</td>\n",
       "    </tr>\n",
       "    <tr>\n",
       "      <th>9</th>\n",
       "      <td>57.0</td>\n",
       "      <td>NamTuLiem</td>\n",
       "      <td>Condominium</td>\n",
       "      <td>VinhomesSkyLake</td>\n",
       "      <td>4</td>\n",
       "      <td>2</td>\n",
       "      <td>2</td>\n",
       "    </tr>\n",
       "  </tbody>\n",
       "</table>\n",
       "</div>"
      ],
      "text/plain": [
       "   price    district               type                     building  guest  \\\n",
       "0  127.0      BaDinh        Condominium           VinhomesMetropolis      8   \n",
       "1   79.0      BaDinh        Condominium           VinhomesMetropolis      4   \n",
       "2   71.0      BaDinh        Condominium           VinhomesMetropolis      5   \n",
       "3   83.0      BaDinh        Condominium           VinhomesMetropolis      4   \n",
       "4   71.0      BaDinh        Condominium                         None      4   \n",
       "5   88.0      BaDinh   Studio Apartment           VinhomesMetropolis      2   \n",
       "6   43.0  HaiBaTrung        Condominium  SunGrandCityAncoraResidence      5   \n",
       "7   44.0  HaiBaTrung        Condominium            VinhomesTimesCity      3   \n",
       "8   53.0       TayHo  Service Apartment                         None      3   \n",
       "9   57.0   NamTuLiem        Condominium              VinhomesSkyLake      4   \n",
       "\n",
       "   bedroom  bathroom  \n",
       "0        3         2  \n",
       "1        2         2  \n",
       "2        2         2  \n",
       "3        2         2  \n",
       "4        2         2  \n",
       "5        1         1  \n",
       "6        2         2  \n",
       "7        1         1  \n",
       "8        1         1  \n",
       "9        2         2  "
      ]
     },
     "execution_count": 10,
     "metadata": {},
     "output_type": "execute_result"
    }
   ],
   "source": [
    "df.head(10)"
   ]
  },
  {
   "cell_type": "code",
   "execution_count": 12,
   "metadata": {},
   "outputs": [
    {
     "data": {
      "text/plain": [
       "price       0\n",
       "district    0\n",
       "type        0\n",
       "building    0\n",
       "guest       0\n",
       "bedroom     0\n",
       "bathroom    0\n",
       "dtype: int64"
      ]
     },
     "execution_count": 12,
     "metadata": {},
     "output_type": "execute_result"
    }
   ],
   "source": [
    "df.isnull().sum()"
   ]
  },
  {
   "cell_type": "code",
   "execution_count": 13,
   "metadata": {
    "colab": {
     "base_uri": "https://localhost:8080/",
     "height": 489
    },
    "colab_type": "code",
    "id": "zv5vnwd_MSZv",
    "outputId": "e91fc870-3a83-4f73-bd7c-60b15bd42a71"
   },
   "outputs": [
    {
     "data": {
      "image/png": "[encoded data removed]",
      "text/plain": [
       "<Figure size 720x504 with 1 Axes>"
      ]
     },
     "metadata": {
      "needs_background": "light"
     },
     "output_type": "display_data"
    }
   ],
   "source": [
    "plt.figure(figsize= (10,7))\n",
    "ax= sns.countplot(df['district'])\n",
    "plt.setp(ax.get_xticklabels(), rotation=30, horizontalalignment='right')\n",
    "plt.xlabel('Districts', fontsize=12)\n",
    "plt.title('Number of available houses in different districts', fontsize=12)\n",
    "plt.show()"
   ]
  },
  {
   "cell_type": "markdown",
   "metadata": {
    "colab_type": "text",
    "id": "eP1oO1MBBiGd"
   },
   "source": [
    "- HK and Badind have the most house listing as they are located in the centre of Hanoi. They have many tourist destinations such as HoGuom, Old streets, LangBac,..."
   ]
  },
  {
   "cell_type": "code",
   "execution_count": 14,
   "metadata": {
    "colab": {
     "base_uri": "https://localhost:8080/",
     "height": 545
    },
    "colab_type": "code",
    "id": "vBbpBR3_LyOw",
    "outputId": "1c4a8254-f2bc-4d0f-9708-315643182c56"
   },
   "outputs": [
    {
     "data": {
      "image/png": "[encoded data removed]",
      "text/plain": [
       "<Figure size 720x576 with 1 Axes>"
      ]
     },
     "metadata": {
      "needs_background": "light"
     },
     "output_type": "display_data"
    }
   ],
   "source": [
    "plt.figure(figsize= (10,8))\n",
    "ax= sns.boxplot(x='district',y='price', data=df, orient= 'v')\n",
    "plt.title('Price Range in different Districts')\n",
    "plt.setp(ax.get_xticklabels(), rotation=30, horizontalalignment='right')\n",
    "plt.show()"
   ]
  },
  {
   "cell_type": "code",
   "execution_count": 15,
   "metadata": {
    "colab": {
     "base_uri": "https://localhost:8080/",
     "height": 545
    },
    "colab_type": "code",
    "id": "ezKSa4obWxYX",
    "outputId": "1d46e024-52c5-432d-db48-32f7738859d5"
   },
   "outputs": [
    {
     "data": {
      "image/png": "[encoded data removed]",
      "text/plain": [
       "<Figure size 720x576 with 1 Axes>"
      ]
     },
     "metadata": {
      "needs_background": "light"
     },
     "output_type": "display_data"
    }
   ],
   "source": [
    "grouped= df.groupby('district')['price'].median()\n",
    "grouped= grouped.reset_index()\n",
    "plt.figure(figsize= (10,8))\n",
    "ax= sns.barplot(x='district', y='price', data=grouped, ci= None)\n",
    "plt.title('Median Price in each District')\n",
    "plt.setp(ax.get_xticklabels(), rotation=30, horizontalalignment='right')\n",
    "plt.show()"
   ]
  },
  {
   "cell_type": "markdown",
   "metadata": {
    "colab_type": "text",
    "id": "NMjONEaMCBRd"
   },
   "source": [
    "- Interesting, it is not HK and BD have the highest prices but QuocOai and ThachThat, which are faraway from the centre"
   ]
  },
  {
   "cell_type": "code",
   "execution_count": 16,
   "metadata": {
    "colab": {
     "base_uri": "https://localhost:8080/",
     "height": 483
    },
    "colab_type": "code",
    "id": "6-JG2f_m-oX0",
    "outputId": "ea46270a-389f-44c7-ee12-88ff1477bd87"
   },
   "outputs": [
    {
     "data": {
      "text/html": [
       "<div>\n",
       "<style scoped>\n",
       "    .dataframe tbody tr th:only-of-type {\n",
       "        vertical-align: middle;\n",
       "    }\n",
       "\n",
       "    .dataframe tbody tr th {\n",
       "        vertical-align: top;\n",
       "    }\n",
       "\n",
       "    .dataframe thead th {\n",
       "        text-align: right;\n",
       "    }\n",
       "</style>\n",
       "<table border=\"1\" class=\"dataframe\">\n",
       "  <thead>\n",
       "    <tr style=\"text-align: right;\">\n",
       "      <th></th>\n",
       "      <th>price</th>\n",
       "      <th>district</th>\n",
       "      <th>type</th>\n",
       "      <th>building</th>\n",
       "      <th>guest</th>\n",
       "      <th>bedroom</th>\n",
       "      <th>bathroom</th>\n",
       "    </tr>\n",
       "  </thead>\n",
       "  <tbody>\n",
       "    <tr>\n",
       "      <th>398</th>\n",
       "      <td>263.0</td>\n",
       "      <td>ThachThat</td>\n",
       "      <td>Villa</td>\n",
       "      <td>None</td>\n",
       "      <td>25</td>\n",
       "      <td>5</td>\n",
       "      <td>5</td>\n",
       "    </tr>\n",
       "    <tr>\n",
       "      <th>451</th>\n",
       "      <td>385.0</td>\n",
       "      <td>ThachThat</td>\n",
       "      <td>Villa</td>\n",
       "      <td>None</td>\n",
       "      <td>6</td>\n",
       "      <td>3</td>\n",
       "      <td>3</td>\n",
       "    </tr>\n",
       "    <tr>\n",
       "      <th>557</th>\n",
       "      <td>420.0</td>\n",
       "      <td>ThachThat</td>\n",
       "      <td>Villa</td>\n",
       "      <td>None</td>\n",
       "      <td>6</td>\n",
       "      <td>3</td>\n",
       "      <td>4</td>\n",
       "    </tr>\n",
       "    <tr>\n",
       "      <th>940</th>\n",
       "      <td>241.0</td>\n",
       "      <td>ThachThat</td>\n",
       "      <td>Villa</td>\n",
       "      <td>None</td>\n",
       "      <td>40</td>\n",
       "      <td>7</td>\n",
       "      <td>6</td>\n",
       "    </tr>\n",
       "    <tr>\n",
       "      <th>994</th>\n",
       "      <td>453.0</td>\n",
       "      <td>ThachThat</td>\n",
       "      <td>Villa</td>\n",
       "      <td>None</td>\n",
       "      <td>5</td>\n",
       "      <td>4</td>\n",
       "      <td>4</td>\n",
       "    </tr>\n",
       "    <tr>\n",
       "      <th>1349</th>\n",
       "      <td>228.0</td>\n",
       "      <td>ThachThat</td>\n",
       "      <td>Villa</td>\n",
       "      <td>None</td>\n",
       "      <td>30</td>\n",
       "      <td>6</td>\n",
       "      <td>6</td>\n",
       "    </tr>\n",
       "    <tr>\n",
       "      <th>2033</th>\n",
       "      <td>197.0</td>\n",
       "      <td>ThachThat</td>\n",
       "      <td>Villa</td>\n",
       "      <td>None</td>\n",
       "      <td>23</td>\n",
       "      <td>3</td>\n",
       "      <td>4</td>\n",
       "    </tr>\n",
       "    <tr>\n",
       "      <th>2046</th>\n",
       "      <td>193.0</td>\n",
       "      <td>ThachThat</td>\n",
       "      <td>Villa</td>\n",
       "      <td>None</td>\n",
       "      <td>16</td>\n",
       "      <td>4</td>\n",
       "      <td>4</td>\n",
       "    </tr>\n",
       "    <tr>\n",
       "      <th>2048</th>\n",
       "      <td>201.0</td>\n",
       "      <td>ThachThat</td>\n",
       "      <td>Villa</td>\n",
       "      <td>None</td>\n",
       "      <td>20</td>\n",
       "      <td>5</td>\n",
       "      <td>4</td>\n",
       "    </tr>\n",
       "    <tr>\n",
       "      <th>2127</th>\n",
       "      <td>184.0</td>\n",
       "      <td>ThachThat</td>\n",
       "      <td>Villa</td>\n",
       "      <td>None</td>\n",
       "      <td>25</td>\n",
       "      <td>5</td>\n",
       "      <td>6</td>\n",
       "    </tr>\n",
       "    <tr>\n",
       "      <th>2232</th>\n",
       "      <td>158.0</td>\n",
       "      <td>ThachThat</td>\n",
       "      <td>Villa</td>\n",
       "      <td>None</td>\n",
       "      <td>30</td>\n",
       "      <td>6</td>\n",
       "      <td>4</td>\n",
       "    </tr>\n",
       "    <tr>\n",
       "      <th>2294</th>\n",
       "      <td>175.0</td>\n",
       "      <td>ThachThat</td>\n",
       "      <td>Villa</td>\n",
       "      <td>None</td>\n",
       "      <td>30</td>\n",
       "      <td>3</td>\n",
       "      <td>4</td>\n",
       "    </tr>\n",
       "    <tr>\n",
       "      <th>2440</th>\n",
       "      <td>657.0</td>\n",
       "      <td>ThachThat</td>\n",
       "      <td>Villa</td>\n",
       "      <td>None</td>\n",
       "      <td>8</td>\n",
       "      <td>4</td>\n",
       "      <td>5</td>\n",
       "    </tr>\n",
       "    <tr>\n",
       "      <th>2535</th>\n",
       "      <td>350.0</td>\n",
       "      <td>ThachThat</td>\n",
       "      <td>Villa</td>\n",
       "      <td>None</td>\n",
       "      <td>8</td>\n",
       "      <td>4</td>\n",
       "      <td>3</td>\n",
       "    </tr>\n",
       "  </tbody>\n",
       "</table>\n",
       "</div>"
      ],
      "text/plain": [
       "      price   district   type building  guest  bedroom  bathroom\n",
       "398   263.0  ThachThat  Villa     None     25        5         5\n",
       "451   385.0  ThachThat  Villa     None      6        3         3\n",
       "557   420.0  ThachThat  Villa     None      6        3         4\n",
       "940   241.0  ThachThat  Villa     None     40        7         6\n",
       "994   453.0  ThachThat  Villa     None      5        4         4\n",
       "1349  228.0  ThachThat  Villa     None     30        6         6\n",
       "2033  197.0  ThachThat  Villa     None     23        3         4\n",
       "2046  193.0  ThachThat  Villa     None     16        4         4\n",
       "2048  201.0  ThachThat  Villa     None     20        5         4\n",
       "2127  184.0  ThachThat  Villa     None     25        5         6\n",
       "2232  158.0  ThachThat  Villa     None     30        6         4\n",
       "2294  175.0  ThachThat  Villa     None     30        3         4\n",
       "2440  657.0  ThachThat  Villa     None      8        4         5\n",
       "2535  350.0  ThachThat  Villa     None      8        4         3"
      ]
     },
     "execution_count": 16,
     "metadata": {},
     "output_type": "execute_result"
    }
   ],
   "source": [
    "#find out why thachthat n quocoai have such a high price given that they are faraway from the centre\n",
    "df[df['district'] == 'ThachThat']"
   ]
  },
  {
   "cell_type": "code",
   "execution_count": 17,
   "metadata": {
    "colab": {
     "base_uri": "https://localhost:8080/",
     "height": 328
    },
    "colab_type": "code",
    "id": "NyjxITmEA0vd",
    "outputId": "be09f677-99f4-477c-e9df-f289d3d37792"
   },
   "outputs": [
    {
     "data": {
      "text/html": [
       "<div>\n",
       "<style scoped>\n",
       "    .dataframe tbody tr th:only-of-type {\n",
       "        vertical-align: middle;\n",
       "    }\n",
       "\n",
       "    .dataframe tbody tr th {\n",
       "        vertical-align: top;\n",
       "    }\n",
       "\n",
       "    .dataframe thead th {\n",
       "        text-align: right;\n",
       "    }\n",
       "</style>\n",
       "<table border=\"1\" class=\"dataframe\">\n",
       "  <thead>\n",
       "    <tr style=\"text-align: right;\">\n",
       "      <th></th>\n",
       "      <th>price</th>\n",
       "      <th>district</th>\n",
       "      <th>type</th>\n",
       "      <th>building</th>\n",
       "      <th>guest</th>\n",
       "      <th>bedroom</th>\n",
       "      <th>bathroom</th>\n",
       "    </tr>\n",
       "  </thead>\n",
       "  <tbody>\n",
       "    <tr>\n",
       "      <th>746</th>\n",
       "      <td>263.0</td>\n",
       "      <td>QuocOai</td>\n",
       "      <td>Villa</td>\n",
       "      <td>None</td>\n",
       "      <td>32</td>\n",
       "      <td>6</td>\n",
       "      <td>7</td>\n",
       "    </tr>\n",
       "    <tr>\n",
       "      <th>953</th>\n",
       "      <td>26.0</td>\n",
       "      <td>QuocOai</td>\n",
       "      <td>Villa</td>\n",
       "      <td>None</td>\n",
       "      <td>1</td>\n",
       "      <td>1</td>\n",
       "      <td>1</td>\n",
       "    </tr>\n",
       "    <tr>\n",
       "      <th>1562</th>\n",
       "      <td>451.0</td>\n",
       "      <td>QuocOai</td>\n",
       "      <td>Villa</td>\n",
       "      <td>None</td>\n",
       "      <td>35</td>\n",
       "      <td>7</td>\n",
       "      <td>5</td>\n",
       "    </tr>\n",
       "    <tr>\n",
       "      <th>1596</th>\n",
       "      <td>226.0</td>\n",
       "      <td>QuocOai</td>\n",
       "      <td>Villa</td>\n",
       "      <td>None</td>\n",
       "      <td>15</td>\n",
       "      <td>4</td>\n",
       "      <td>3</td>\n",
       "    </tr>\n",
       "    <tr>\n",
       "      <th>1598</th>\n",
       "      <td>226.0</td>\n",
       "      <td>QuocOai</td>\n",
       "      <td>Villa</td>\n",
       "      <td>None</td>\n",
       "      <td>20</td>\n",
       "      <td>3</td>\n",
       "      <td>2</td>\n",
       "    </tr>\n",
       "    <tr>\n",
       "      <th>2404</th>\n",
       "      <td>70.0</td>\n",
       "      <td>QuocOai</td>\n",
       "      <td>Villa</td>\n",
       "      <td>None</td>\n",
       "      <td>10</td>\n",
       "      <td>3</td>\n",
       "      <td>3</td>\n",
       "    </tr>\n",
       "    <tr>\n",
       "      <th>2416</th>\n",
       "      <td>44.0</td>\n",
       "      <td>QuocOai</td>\n",
       "      <td>Villa</td>\n",
       "      <td>None</td>\n",
       "      <td>2</td>\n",
       "      <td>1</td>\n",
       "      <td>1</td>\n",
       "    </tr>\n",
       "    <tr>\n",
       "      <th>2417</th>\n",
       "      <td>197.0</td>\n",
       "      <td>QuocOai</td>\n",
       "      <td>Villa</td>\n",
       "      <td>None</td>\n",
       "      <td>16</td>\n",
       "      <td>4</td>\n",
       "      <td>3</td>\n",
       "    </tr>\n",
       "    <tr>\n",
       "      <th>2437</th>\n",
       "      <td>263.0</td>\n",
       "      <td>QuocOai</td>\n",
       "      <td>Villa</td>\n",
       "      <td>None</td>\n",
       "      <td>40</td>\n",
       "      <td>7</td>\n",
       "      <td>5</td>\n",
       "    </tr>\n",
       "  </tbody>\n",
       "</table>\n",
       "</div>"
      ],
      "text/plain": [
       "      price district   type building  guest  bedroom  bathroom\n",
       "746   263.0  QuocOai  Villa     None     32        6         7\n",
       "953    26.0  QuocOai  Villa     None      1        1         1\n",
       "1562  451.0  QuocOai  Villa     None     35        7         5\n",
       "1596  226.0  QuocOai  Villa     None     15        4         3\n",
       "1598  226.0  QuocOai  Villa     None     20        3         2\n",
       "2404   70.0  QuocOai  Villa     None     10        3         3\n",
       "2416   44.0  QuocOai  Villa     None      2        1         1\n",
       "2417  197.0  QuocOai  Villa     None     16        4         3\n",
       "2437  263.0  QuocOai  Villa     None     40        7         5"
      ]
     },
     "execution_count": 17,
     "metadata": {},
     "output_type": "execute_result"
    }
   ],
   "source": [
    "df[df['district'] == 'QuocOai']"
   ]
  },
  {
   "cell_type": "markdown",
   "metadata": {
    "colab_type": "text",
    "id": "pXsd-vS9CMMv"
   },
   "source": [
    "- The type of houses in those two places are luxurious, for large groups of people to hold occations such as family picnic or company holidays"
   ]
  },
  {
   "cell_type": "code",
   "execution_count": 18,
   "metadata": {
    "colab": {
     "base_uri": "https://localhost:8080/",
     "height": 507
    },
    "colab_type": "code",
    "id": "uCAizaYUVINd",
    "outputId": "8e5f6375-bef5-4f3f-cff1-99adfdb03bcf"
   },
   "outputs": [
    {
     "data": {
      "image/png": "[encoded data removed]",
      "text/plain": [
       "<Figure size 720x504 with 1 Axes>"
      ]
     },
     "metadata": {
      "needs_background": "light"
     },
     "output_type": "display_data"
    }
   ],
   "source": [
    "plt.figure(figsize= (10,7))\n",
    "ax= sns.countplot(df['type'], order= ['Condominium', 'Studio Apartment', 'Service Apartment',\n",
    "       'Entire House', 'Villa', 'Other'])\n",
    "plt.setp(ax.get_xticklabels(), rotation=30, horizontalalignment='right')\n",
    "plt.xlabel('Type of Home', fontsize=12)\n",
    "plt.title('Number of listings of each housing types', fontsize=12)\n",
    "plt.show()"
   ]
  },
  {
   "cell_type": "code",
   "execution_count": 19,
   "metadata": {
    "colab": {
     "base_uri": "https://localhost:8080/",
     "height": 34
    },
    "colab_type": "code",
    "id": "u1acpk7QZwq7",
    "outputId": "ce7c342d-afb5-4b26-8f7c-1b246880b89f"
   },
   "outputs": [
    {
     "data": {
      "text/plain": [
       "53"
      ]
     },
     "execution_count": 19,
     "metadata": {},
     "output_type": "execute_result"
    }
   ],
   "source": [
    "df['building'].nunique()"
   ]
  },
  {
   "cell_type": "code",
   "execution_count": 20,
   "metadata": {
    "colab": {
     "base_uri": "https://localhost:8080/",
     "height": 204
    },
    "colab_type": "code",
    "id": "0lJ7cSrHdjp5",
    "outputId": "01efd219-75a4-48ca-d790-edd1004e5c25"
   },
   "outputs": [
    {
     "data": {
      "text/plain": [
       "None                           2227\n",
       "VinhomesMetropolis              103\n",
       "VinhomesSkyLake                  68\n",
       "VinhomesGreenBay                 48\n",
       "VinhomesTimesCity                40\n",
       "VinhomesCapitaleTranDuyHung      23\n",
       "ImperiaGarden                    18\n",
       "VinhomesRoyalCity                15\n",
       "MipecRiverside                   12\n",
       "LancasterNuiTruc                 11\n",
       "Name: building, dtype: int64"
      ]
     },
     "execution_count": 20,
     "metadata": {},
     "output_type": "execute_result"
    }
   ],
   "source": [
    "df['building'].value_counts().head(10)"
   ]
  },
  {
   "cell_type": "code",
   "execution_count": 21,
   "metadata": {
    "colab": {
     "base_uri": "https://localhost:8080/",
     "height": 595
    },
    "colab_type": "code",
    "id": "rrFJAWpBflYK",
    "outputId": "2faa805e-8a37-48bf-bdcd-0b461686f28c"
   },
   "outputs": [
    {
     "data": {
      "image/png": "[encoded data removed]",
      "text/plain": [
       "<Figure size 720x576 with 1 Axes>"
      ]
     },
     "metadata": {
      "needs_background": "light"
     },
     "output_type": "display_data"
    }
   ],
   "source": [
    "options= df['building'].value_counts().head(10).reset_index()\n",
    "options.columns= ['building', 'count']\n",
    "pop_building= list(options['building'])\n",
    "df_pop_building= df[df['building'].isin(pop_building)]\n",
    "grouped1= df_pop_building.groupby('building')['price'].median().reset_index()\n",
    "plt.figure(figsize= (10,8))\n",
    "ax= sns.barplot(x='building', y='price', data=grouped1, ci= None)\n",
    "plt.title('Median Prices of the most common buildings')\n",
    "plt.setp(ax.get_xticklabels(), rotation=30, horizontalalignment='right')\n",
    "plt.show()"
   ]
  },
  {
   "cell_type": "code",
   "execution_count": 22,
   "metadata": {
    "colab": {
     "base_uri": "https://localhost:8080/",
     "height": 517
    },
    "colab_type": "code",
    "id": "Afjk-6SEcUWA",
    "outputId": "ede6574f-e3c9-4bed-a6fa-53025fe0b655"
   },
   "outputs": [
    {
     "data": {
      "image/png": "[encoded data removed]",
      "text/plain": [
       "<Figure size 720x576 with 1 Axes>"
      ]
     },
     "metadata": {
      "needs_background": "light"
     },
     "output_type": "display_data"
    }
   ],
   "source": [
    "grouped2= df.groupby('guest')['price'].median().reset_index()\n",
    "plt.figure(figsize= (10,8))\n",
    "ax= sns.barplot(x='guest', y='price', data=grouped2, ci= None)\n",
    "plt.title('Median Price of listing with different guests')\n",
    "plt.show()"
   ]
  },
  {
   "cell_type": "code",
   "execution_count": 23,
   "metadata": {
    "colab": {
     "base_uri": "https://localhost:8080/",
     "height": 489
    },
    "colab_type": "code",
    "id": "2bHZ-aLP-yV7",
    "outputId": "725a6c20-1b96-41d5-fcd7-befdd3b4255a"
   },
   "outputs": [
    {
     "data": {
      "image/png": "[encoded data removed]",
      "text/plain": [
       "<Figure size 720x576 with 2 Axes>"
      ]
     },
     "metadata": {
      "needs_background": "light"
     },
     "output_type": "display_data"
    }
   ],
   "source": [
    "#create auto-correlation between price and numbers of guest, bathroom, bedroom to see which influence the most\n",
    "correlations= df.corrwith(df['price']).iloc[1:].to_frame()\n",
    "sorted_corr= correlations.sort_values(by=0 ,ascending= False)\n",
    "sorted_corr.rename(columns= {0: ''}, inplace= True)\n",
    "\n",
    "fig, ax = plt.subplots(figsize=(10,8))\n",
    "sns.heatmap(sorted_corr, cmap='coolwarm', annot=True, vmin=-1, vmax=1, ax=ax);\n",
    "plt.title('Correlations between the rental prices and the numbers of guests, bedroom and bathrooms')\n",
    "plt.show()"
   ]
  },
  {
   "cell_type": "code",
   "execution_count": 24,
   "metadata": {
    "colab": {
     "base_uri": "https://localhost:8080/",
     "height": 241
    },
    "colab_type": "code",
    "id": "OX3wWNwOUAFU",
    "outputId": "85941e70-dfe0-4304-8917-8deb261e9001"
   },
   "outputs": [
    {
     "data": {
      "text/html": [
       "<div>\n",
       "<style scoped>\n",
       "    .dataframe tbody tr th:only-of-type {\n",
       "        vertical-align: middle;\n",
       "    }\n",
       "\n",
       "    .dataframe tbody tr th {\n",
       "        vertical-align: top;\n",
       "    }\n",
       "\n",
       "    .dataframe thead th {\n",
       "        text-align: right;\n",
       "    }\n",
       "</style>\n",
       "<table border=\"1\" class=\"dataframe\">\n",
       "  <thead>\n",
       "    <tr style=\"text-align: right;\">\n",
       "      <th></th>\n",
       "      <th>price</th>\n",
       "      <th>guest</th>\n",
       "      <th>bedroom</th>\n",
       "      <th>bathroom</th>\n",
       "      <th>BaVi</th>\n",
       "      <th>BacTuLiem</th>\n",
       "      <th>CauGiay</th>\n",
       "      <th>ChuongMy</th>\n",
       "      <th>DongAnh</th>\n",
       "      <th>DongDa</th>\n",
       "      <th>...</th>\n",
       "      <th>VietDucComplex</th>\n",
       "      <th>VinataTower</th>\n",
       "      <th>VinhomesCapitaleTranDuyHung</th>\n",
       "      <th>VinhomesGardenia</th>\n",
       "      <th>VinhomesGreenBay</th>\n",
       "      <th>VinhomesMetropolis</th>\n",
       "      <th>VinhomesNguyenChiThanh</th>\n",
       "      <th>VinhomesRoyalCity</th>\n",
       "      <th>VinhomesSkyLake</th>\n",
       "      <th>VinhomesTimesCity</th>\n",
       "    </tr>\n",
       "  </thead>\n",
       "  <tbody>\n",
       "    <tr>\n",
       "      <th>0</th>\n",
       "      <td>127.0</td>\n",
       "      <td>8</td>\n",
       "      <td>3</td>\n",
       "      <td>2</td>\n",
       "      <td>0</td>\n",
       "      <td>0</td>\n",
       "      <td>0</td>\n",
       "      <td>0</td>\n",
       "      <td>0</td>\n",
       "      <td>0</td>\n",
       "      <td>...</td>\n",
       "      <td>0</td>\n",
       "      <td>0</td>\n",
       "      <td>0</td>\n",
       "      <td>0</td>\n",
       "      <td>0</td>\n",
       "      <td>1</td>\n",
       "      <td>0</td>\n",
       "      <td>0</td>\n",
       "      <td>0</td>\n",
       "      <td>0</td>\n",
       "    </tr>\n",
       "    <tr>\n",
       "      <th>1</th>\n",
       "      <td>79.0</td>\n",
       "      <td>4</td>\n",
       "      <td>2</td>\n",
       "      <td>2</td>\n",
       "      <td>0</td>\n",
       "      <td>0</td>\n",
       "      <td>0</td>\n",
       "      <td>0</td>\n",
       "      <td>0</td>\n",
       "      <td>0</td>\n",
       "      <td>...</td>\n",
       "      <td>0</td>\n",
       "      <td>0</td>\n",
       "      <td>0</td>\n",
       "      <td>0</td>\n",
       "      <td>0</td>\n",
       "      <td>1</td>\n",
       "      <td>0</td>\n",
       "      <td>0</td>\n",
       "      <td>0</td>\n",
       "      <td>0</td>\n",
       "    </tr>\n",
       "    <tr>\n",
       "      <th>2</th>\n",
       "      <td>71.0</td>\n",
       "      <td>5</td>\n",
       "      <td>2</td>\n",
       "      <td>2</td>\n",
       "      <td>0</td>\n",
       "      <td>0</td>\n",
       "      <td>0</td>\n",
       "      <td>0</td>\n",
       "      <td>0</td>\n",
       "      <td>0</td>\n",
       "      <td>...</td>\n",
       "      <td>0</td>\n",
       "      <td>0</td>\n",
       "      <td>0</td>\n",
       "      <td>0</td>\n",
       "      <td>0</td>\n",
       "      <td>1</td>\n",
       "      <td>0</td>\n",
       "      <td>0</td>\n",
       "      <td>0</td>\n",
       "      <td>0</td>\n",
       "    </tr>\n",
       "    <tr>\n",
       "      <th>3</th>\n",
       "      <td>83.0</td>\n",
       "      <td>4</td>\n",
       "      <td>2</td>\n",
       "      <td>2</td>\n",
       "      <td>0</td>\n",
       "      <td>0</td>\n",
       "      <td>0</td>\n",
       "      <td>0</td>\n",
       "      <td>0</td>\n",
       "      <td>0</td>\n",
       "      <td>...</td>\n",
       "      <td>0</td>\n",
       "      <td>0</td>\n",
       "      <td>0</td>\n",
       "      <td>0</td>\n",
       "      <td>0</td>\n",
       "      <td>1</td>\n",
       "      <td>0</td>\n",
       "      <td>0</td>\n",
       "      <td>0</td>\n",
       "      <td>0</td>\n",
       "    </tr>\n",
       "    <tr>\n",
       "      <th>4</th>\n",
       "      <td>71.0</td>\n",
       "      <td>4</td>\n",
       "      <td>2</td>\n",
       "      <td>2</td>\n",
       "      <td>0</td>\n",
       "      <td>0</td>\n",
       "      <td>0</td>\n",
       "      <td>0</td>\n",
       "      <td>0</td>\n",
       "      <td>0</td>\n",
       "      <td>...</td>\n",
       "      <td>0</td>\n",
       "      <td>0</td>\n",
       "      <td>0</td>\n",
       "      <td>0</td>\n",
       "      <td>0</td>\n",
       "      <td>0</td>\n",
       "      <td>0</td>\n",
       "      <td>0</td>\n",
       "      <td>0</td>\n",
       "      <td>0</td>\n",
       "    </tr>\n",
       "  </tbody>\n",
       "</table>\n",
       "<p>5 rows × 79 columns</p>\n",
       "</div>"
      ],
      "text/plain": [
       "   price  guest  bedroom  bathroom  BaVi  BacTuLiem  CauGiay  ChuongMy  \\\n",
       "0  127.0      8        3         2     0          0        0         0   \n",
       "1   79.0      4        2         2     0          0        0         0   \n",
       "2   71.0      5        2         2     0          0        0         0   \n",
       "3   83.0      4        2         2     0          0        0         0   \n",
       "4   71.0      4        2         2     0          0        0         0   \n",
       "\n",
       "   DongAnh  DongDa  ...  VietDucComplex  VinataTower  \\\n",
       "0        0       0  ...               0            0   \n",
       "1        0       0  ...               0            0   \n",
       "2        0       0  ...               0            0   \n",
       "3        0       0  ...               0            0   \n",
       "4        0       0  ...               0            0   \n",
       "\n",
       "   VinhomesCapitaleTranDuyHung  VinhomesGardenia  VinhomesGreenBay  \\\n",
       "0                            0                 0                 0   \n",
       "1                            0                 0                 0   \n",
       "2                            0                 0                 0   \n",
       "3                            0                 0                 0   \n",
       "4                            0                 0                 0   \n",
       "\n",
       "   VinhomesMetropolis  VinhomesNguyenChiThanh  VinhomesRoyalCity  \\\n",
       "0                   1                       0                  0   \n",
       "1                   1                       0                  0   \n",
       "2                   1                       0                  0   \n",
       "3                   1                       0                  0   \n",
       "4                   0                       0                  0   \n",
       "\n",
       "   VinhomesSkyLake  VinhomesTimesCity  \n",
       "0                0                  0  \n",
       "1                0                  0  \n",
       "2                0                  0  \n",
       "3                0                  0  \n",
       "4                0                  0  \n",
       "\n",
       "[5 rows x 79 columns]"
      ]
     },
     "execution_count": 24,
     "metadata": {},
     "output_type": "execute_result"
    }
   ],
   "source": [
    "#create dummies\n",
    "dist_dummy= pd.get_dummies(df['district'], drop_first= True)\n",
    "type_dummy= pd.get_dummies(df['type']).drop('Other', axis=1)\n",
    "building_dummy= pd.get_dummies(df['building']).drop('None', axis=1)\n",
    "\n",
    "df_fe= pd.concat([df, dist_dummy, type_dummy, building_dummy], axis=1)\n",
    "df_fe.drop(['building', 'district', 'type'], axis=1, inplace= True)\n",
    "\n",
    "df_fe.head()"
   ]
  },
  {
   "cell_type": "code",
   "execution_count": 25,
   "metadata": {},
   "outputs": [],
   "source": [
    "df_fe.to_csv('luxstay_hanoi_27-12-2019_feature_eng.csv', index=False, encoding='utf-8')"
   ]
  },
  {
   "cell_type": "code",
   "execution_count": 0,
   "metadata": {
    "colab": {
     "base_uri": "https://localhost:8080/",
     "height": 34
    },
    "colab_type": "code",
    "id": "tp6WqcUrN-bl",
    "outputId": "136763a2-a479-4dce-e474-659f74846d42"
   },
   "outputs": [
    {
     "data": {
      "text/plain": [
       "(2675, 79)"
      ]
     },
     "execution_count": 65,
     "metadata": {
      "tags": []
     },
     "output_type": "execute_result"
    }
   ],
   "source": [
    "df_fe.shape"
   ]
  },
  {
   "cell_type": "code",
   "execution_count": 0,
   "metadata": {
    "colab": {},
    "colab_type": "code",
    "id": "3jLtGaYGR8nc"
   },
   "outputs": [],
   "source": []
  }
 ],
 "metadata": {
  "colab": {
   "name": "Thesis Data Exploration.ipynb",
   "provenance": []
  },
  "kernelspec": {
   "display_name": "Python 3",
   "language": "python",
   "name": "python3"
  },
  "language_info": {
   "codemirror_mode": {
    "name": "ipython",
    "version": 3
   },
   "file_extension": ".py",
   "mimetype": "text/x-python",
   "name": "python",
   "nbconvert_exporter": "python",
   "pygments_lexer": "ipython3",
   "version": "3.6.10"
  }
 },
 "nbformat": 4,
 "nbformat_minor": 1
}
