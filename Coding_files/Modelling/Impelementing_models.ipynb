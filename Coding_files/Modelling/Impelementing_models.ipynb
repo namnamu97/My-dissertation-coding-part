{
 "cells": [
  {
   "cell_type": "code",
   "execution_count": 10,
   "metadata": {},
   "outputs": [],
   "source": [
    "#loading data\n",
    "import pandas as pd\n",
    "import numpy as np\n",
    "\n",
    "df= pd.read_csv('luxstay_hanoi_27-12-2019_feature_eng.csv')\n",
    "df= df.sample(frac= 1, random_state= 1).reset_index(drop= True)\n",
    "\n",
    "X, y= df.drop('price', axis= 1), df['price']"
   ]
  },
  {
   "cell_type": "markdown",
   "metadata": {},
   "source": [
    "## Impletmenting FISTA"
   ]
  },
  {
   "cell_type": "code",
   "execution_count": 8,
   "metadata": {},
   "outputs": [],
   "source": [
    "#import lib\n",
    "from math import sqrt\n",
    "import numpy as np\n",
    "from numpy.linalg import norm\n",
    "\n",
    "np.random.seed(23) #set seed for same experimental results\n",
    "\n",
    "def soft_thresh(w,l):\n",
    "    return np.sign(w)*np.maximum(np.abs(w)-l, 0)\n",
    "\n",
    "def fista_imp(X, y, l):\n",
    "    w= np.zeros(X.shape[1])\n",
    "    Losses= []\n",
    "    t= 1\n",
    "    v= w.copy()\n",
    "    \n",
    "    L= norm(X.T.dot(X)) #lipschitz constrain\n",
    "    \n",
    "    max_iter = 1000\n",
    "    \n",
    "    for i in range(max_iter):\n",
    "        w_old= w.copy()\n",
    "        z=v-X.T.dot(X.dot(v)-y)/L\n",
    "        w= soft_thresh(z, l/L)\n",
    "        t_old= t\n",
    "        t= (1+sqrt(1+4*t_old**2))/2\n",
    "        v= w+((t_old - 1)/t)*(w - w_old)\n",
    "        \n",
    "        loss= 0.5*norm(X.dot(w)-y)**2+l*norm(w,ord=1)\n",
    "        \n",
    "        Losses.append(loss)\n",
    "        print(f'Iteration {i+1}/{max_iter}: Loss= {loss:.2f}')\n",
    "        \n",
    "def fista_getw(X, y, l):\n",
    "    w= np.zeros(X.shape[1])\n",
    "    t= 1\n",
    "    v= w.copy()\n",
    "    \n",
    "    L= norm(X.T.dot(X)) #lipschitz constrain\n",
    "    \n",
    "    max_iter = 1000\n",
    "    \n",
    "    for i in range(max_iter):\n",
    "        w_old= w.copy()\n",
    "        z=v-X.T.dot(X.dot(v)-y)/L\n",
    "        w= soft_thresh(z, l/L)\n",
    "        t_old= t\n",
    "        t= (1+sqrt(1+4*t_old**2))/2\n",
    "        v= w+((t_old - 1)/t)*(w - w_old)\n",
    "        \n",
    "        loss= 0.5*norm(X.dot(w)-y)**2+l*norm(w,ord=1)\n",
    "        \n",
    "    return w\n",
    "\n",
    "def predict(X, w):\n",
    "    return X.dot(w)\n"
   ]
  },
  {
   "cell_type": "code",
   "execution_count": 9,
   "metadata": {},
   "outputs": [],
   "source": [
    "from sklearn.metrics import mean_squared_error \n",
    "from sklearn.metrics import r2_score  \n",
    "\n",
    "def k_fold_cross(k,data,alpha):\n",
    "    mses=[]\n",
    "    r2s= []\n",
    "    data=data.sample(frac=1,random_state=1).reset_index(drop=True) #shuffle the data frame\n",
    "    folds=np.array_split(data, k)\n",
    "    # run into loops with different test set\n",
    "    for i in range(k):\n",
    "        #define train and test \n",
    "        train=folds.copy()\n",
    "        test=folds[i]\n",
    "        del train[i]\n",
    "        train=pd.concat(train, sort=False)\n",
    "        \n",
    "        #train x and y\n",
    "        x_train=np.array(train.drop('price',axis=1))\n",
    "        y_train=np.array(train['price'])\n",
    "        \n",
    "        #test x and y\n",
    "        x_test=np.array(test.drop('price',axis=1))\n",
    "        y_test=np.array(test['price'])\n",
    "        \n",
    "        #fitting training x and y into model\n",
    "        weight=fista_getw(x_train, y_train, alpha)\n",
    "        \n",
    "        #set up prediction and accuracy\n",
    "        prediction=predict(x_test, weight)\n",
    "        \n",
    "        mse=mean_squared_error(y_test, prediction)\n",
    "        r2=r2_score(y_test, prediction)\n",
    "        \n",
    "        mses.append(mse)\n",
    "        r2s.append(r2)\n",
    "    return np.mean(mses), np.mean(r2s)\n",
    "\n",
    "def cross_poly_ridge(data):\n",
    "    k=5\n",
    "    #creating list of recrods\n",
    "    alpha_points=[]\n",
    "    degree_points=[]\n",
    "    mses=[]\n",
    "    r2s= []\n",
    "    #define alpha\n",
    "    alphas=np.logspace(-2,0,3)\n",
    "    alphas=list(alphas)\n",
    "    alphas.remove(1.0)\n",
    "    for i in range(0,20):\n",
    "        alphas.append(i)\n",
    "    #ridge regression with different alpha:\n",
    "    for alpha in alphas:\n",
    "            mean_mse, mean_r2=k_fold_cross(k,data,alpha)\n",
    "            mses.append(mean_mse)\n",
    "            r2s.append(mean_r2)\n",
    "            alpha_points.append(alpha)\n",
    "    return alpha_points, mses, r2s"
   ]
  },
  {
   "cell_type": "code",
   "execution_count": 10,
   "metadata": {},
   "outputs": [
    {
     "data": {
      "text/html": [
       "<div>\n",
       "<style scoped>\n",
       "    .dataframe tbody tr th:only-of-type {\n",
       "        vertical-align: middle;\n",
       "    }\n",
       "\n",
       "    .dataframe tbody tr th {\n",
       "        vertical-align: top;\n",
       "    }\n",
       "\n",
       "    .dataframe thead th {\n",
       "        text-align: right;\n",
       "    }\n",
       "</style>\n",
       "<table border=\"1\" class=\"dataframe\">\n",
       "  <thead>\n",
       "    <tr style=\"text-align: right;\">\n",
       "      <th></th>\n",
       "      <th>Alpha</th>\n",
       "      <th>MSE</th>\n",
       "      <th>R2</th>\n",
       "    </tr>\n",
       "  </thead>\n",
       "  <tbody>\n",
       "    <tr>\n",
       "      <th>0</th>\n",
       "      <td>0.01</td>\n",
       "      <td>1519.809461</td>\n",
       "      <td>0.557894</td>\n",
       "    </tr>\n",
       "    <tr>\n",
       "      <th>1</th>\n",
       "      <td>0.10</td>\n",
       "      <td>1519.799751</td>\n",
       "      <td>0.557897</td>\n",
       "    </tr>\n",
       "    <tr>\n",
       "      <th>2</th>\n",
       "      <td>0.00</td>\n",
       "      <td>1519.810543</td>\n",
       "      <td>0.557893</td>\n",
       "    </tr>\n",
       "    <tr>\n",
       "      <th>3</th>\n",
       "      <td>1.00</td>\n",
       "      <td>1519.699815</td>\n",
       "      <td>0.557931</td>\n",
       "    </tr>\n",
       "    <tr>\n",
       "      <th>4</th>\n",
       "      <td>2.00</td>\n",
       "      <td>1519.591214</td>\n",
       "      <td>0.557969</td>\n",
       "    </tr>\n",
       "  </tbody>\n",
       "</table>\n",
       "</div>"
      ],
      "text/plain": [
       "   Alpha          MSE        R2\n",
       "0   0.01  1519.809461  0.557894\n",
       "1   0.10  1519.799751  0.557897\n",
       "2   0.00  1519.810543  0.557893\n",
       "3   1.00  1519.699815  0.557931\n",
       "4   2.00  1519.591214  0.557969"
      ]
     },
     "execution_count": 10,
     "metadata": {},
     "output_type": "execute_result"
    }
   ],
   "source": [
    "#testing fista\n",
    "train= pd.read_csv('luxstay_hanoi_27-12-2019_feature_eng.csv')\n",
    "\n",
    "Alpha,MSE, R2=cross_poly_ridge(train)\n",
    "\n",
    "data_points={'Alpha':Alpha,'MSE':MSE, 'R2': R2} \n",
    "results=pd.DataFrame(data=data_points)\n",
    "results.head()"
   ]
  },
  {
   "cell_type": "code",
   "execution_count": 11,
   "metadata": {},
   "outputs": [],
   "source": [
    "results.to_csv('fista_results', index= False)"
   ]
  },
  {
   "cell_type": "code",
   "execution_count": 13,
   "metadata": {},
   "outputs": [
    {
     "name": "stdout",
     "output_type": "stream",
     "text": [
      "The best R2 is 0.5580 and MSE is 1519.35 for Alpha=8\n"
     ]
    }
   ],
   "source": [
    "index=np.argmax(R2)\n",
    "print('The best R2 is {p:.4f} and MSE is {m:.2f} for Alpha={a}'.format(p=max(R2), m=MSE[index], a=Alpha[index]))"
   ]
  },
  {
   "cell_type": "markdown",
   "metadata": {},
   "source": [
    "## Random Forest Regressor"
   ]
  },
  {
   "cell_type": "code",
   "execution_count": 35,
   "metadata": {},
   "outputs": [],
   "source": [
    "from sklearn.ensemble import RandomForestRegressor\n",
    "from sklearn.model_selection import GridSearchCV\n",
    "\n",
    "param_grid_rf= {\n",
    "    'max_depth': ['none', 50, 60, 70, 80, 100],\n",
    "    'max_features': [i for i in range(2, 12, 2)],\n",
    "    'n_estimators': [i for i in range(100,1100,100)]\n",
    "}\n",
    "\n",
    "rf= RandomForestRegressor(random_state=23)\n",
    "\n",
    "grid_search_rf= GridSearchCV(estimator= rf, param_grid= param_grid_rf, \n",
    "                         cv= 5, refit= 'r2', n_jobs= -1,\n",
    "                         scoring= ['neg_mean_squared_error', 'r2'])"
   ]
  },
  {
   "cell_type": "code",
   "execution_count": 36,
   "metadata": {},
   "outputs": [
    {
     "name": "stdout",
     "output_type": "stream",
     "text": [
      "{'max_depth': 50, 'max_features': 10, 'n_estimators': 900}\n"
     ]
    }
   ],
   "source": [
    "grid_search_rf.fit(X, y)\n",
    "\n",
    "print(grid_search_rf.best_params_)"
   ]
  },
  {
   "cell_type": "code",
   "execution_count": 37,
   "metadata": {},
   "outputs": [
    {
     "name": "stdout",
     "output_type": "stream",
     "text": [
      "R2 of the best model is 0.5891\n",
      "MSE of the best model is 1430.54\n"
     ]
    }
   ],
   "source": [
    "best_rf= grid_search_rf.best_estimator_\n",
    "\n",
    "from sklearn.model_selection import cross_validate\n",
    "\n",
    "rf_cv= cross_validate(best_rf, X, y, cv=5, scoring= ['neg_mean_squared_error', 'r2'])\n",
    "r2s_cv= rf_cv['test_r2']\n",
    "mses_cv= abs(rf_cv['test_neg_mean_squared_error'])\n",
    "\n",
    "print('R2 of the best model is {:.4f}'.format(np.mean(r2s_cv)))\n",
    "print('MSE of the best model is {:.2f}'.format(np.mean(mses_cv)))"
   ]
  },
  {
   "cell_type": "code",
   "execution_count": 38,
   "metadata": {},
   "outputs": [
    {
     "data": {
      "text/plain": [
       "array([ 800.86153043, 1332.08754015, 3692.04091989,  633.05448899,\n",
       "        694.67853037])"
      ]
     },
     "execution_count": 38,
     "metadata": {},
     "output_type": "execute_result"
    }
   ],
   "source": [
    "mses_cv"
   ]
  },
  {
   "cell_type": "code",
   "execution_count": 39,
   "metadata": {},
   "outputs": [
    {
     "data": {
      "text/plain": [
       "array([0.71890662, 0.60752524, 0.26131314, 0.69221816, 0.6655281 ])"
      ]
     },
     "execution_count": 39,
     "metadata": {},
     "output_type": "execute_result"
    }
   ],
   "source": [
    "r2s_cv"
   ]
  },
  {
   "cell_type": "markdown",
   "metadata": {},
   "source": [
    "## Gradient Boosting"
   ]
  },
  {
   "cell_type": "code",
   "execution_count": 40,
   "metadata": {},
   "outputs": [],
   "source": [
    "from sklearn.ensemble import GradientBoostingRegressor as GBM\n",
    "from sklearn.model_selection import GridSearchCV \n",
    "\n",
    "param_grid_gbm= {\n",
    "    'max_depth': [i for i in range(5,16)],\n",
    "    'max_features': [i for i in range(2, 12, 2)],\n",
    "    'n_estimators': [i for i in range(50,350,50)],\n",
    "    'learning_rate': np.linspace(0.1, 0.5, 5)\n",
    "}\n",
    "\n",
    "gbm= GBM(random_state= 23)\n",
    "\n",
    "grid_search_gbm= GridSearchCV(estimator= gbm, param_grid= param_grid_gbm, \n",
    "                         cv= 5, refit= 'r2', n_jobs= -1,\n",
    "                         scoring= ['neg_mean_squared_error', 'r2'])"
   ]
  },
  {
   "cell_type": "code",
   "execution_count": 41,
   "metadata": {},
   "outputs": [
    {
     "name": "stdout",
     "output_type": "stream",
     "text": [
      "{'learning_rate': 0.2, 'max_depth': 7, 'max_features': 8, 'n_estimators': 50}\n"
     ]
    }
   ],
   "source": [
    "grid_search_gbm.fit(X, y)\n",
    "\n",
    "print(grid_search_gbm.best_params_)"
   ]
  },
  {
   "cell_type": "code",
   "execution_count": 42,
   "metadata": {},
   "outputs": [
    {
     "name": "stdout",
     "output_type": "stream",
     "text": [
      "R2 of the best model is 0.6168\n",
      "MSE of the best model is 1351.38\n"
     ]
    }
   ],
   "source": [
    "best_gbm= grid_search_gbm.best_estimator_\n",
    "\n",
    "from sklearn.model_selection import cross_validate\n",
    "\n",
    "gbm_cv= cross_validate(best_gbm, X, y, cv=5, scoring= ['neg_mean_squared_error', 'r2'])\n",
    "r2s_cv= gbm_cv['test_r2']\n",
    "mses_cv= abs(gbm_cv['test_neg_mean_squared_error'])\n",
    "\n",
    "print('R2 of the best model is {:.4f}'.format(np.mean(r2s_cv)))\n",
    "print('MSE of the best model is {:.2f}'.format(np.mean(mses_cv)))"
   ]
  },
  {
   "cell_type": "code",
   "execution_count": 43,
   "metadata": {},
   "outputs": [
    {
     "name": "stdout",
     "output_type": "stream",
     "text": [
      "[ 733.26804311 1153.00913317 3657.85812729  670.56087654  542.17932319]\n",
      "\n",
      "[0.74263117 0.66028735 0.26815228 0.6739831  0.738953  ]\n"
     ]
    }
   ],
   "source": [
    "print(mses_cv)\n",
    "print('')\n",
    "print(r2s_cv)"
   ]
  },
  {
   "cell_type": "markdown",
   "metadata": {},
   "source": [
    "## Extreme Gradient Boosting"
   ]
  },
  {
   "cell_type": "code",
   "execution_count": 3,
   "metadata": {},
   "outputs": [],
   "source": [
    "import xgboost\n",
    "from sklearn.model_selection import GridSearchCV \n",
    "\n",
    "#alphas=np.logspace(-5,0,6)\n",
    "#alphas=list(alphas)\n",
    "#alphas.remove(1.0)\n",
    "#for i in range(0,11):\n",
    "#    alphas.append(i)\n",
    "\n",
    "param_grid_xgb= {\n",
    "    'max_depth': [i for i in range(3,10)],\n",
    "    'n_estimators': [i for i in range(100, 400, 100)],\n",
    "    'learning_rate': np.linspace(0.1, 0.4, 4),\n",
    "    'reg_lambda': [1e-4,1e-2,0,2,4,5,6,7,10,100],\n",
    "}\n",
    "\n",
    "xgb= xgboost.XGBRegressor(random_state= 23)\n",
    "\n",
    "grid_search_xgb= GridSearchCV(estimator= xgb, param_grid= param_grid_xgb, \n",
    "                         cv= 5, refit= 'r2', n_jobs= -1,\n",
    "                         scoring= ['neg_mean_squared_error', 'r2'])\n",
    "\n"
   ]
  },
  {
   "cell_type": "code",
   "execution_count": 4,
   "metadata": {},
   "outputs": [
    {
     "name": "stdout",
     "output_type": "stream",
     "text": [
      "{'learning_rate': 0.1, 'max_depth': 4, 'n_estimators': 100, 'reg_lambda': 0.01}\n",
      "\n",
      "0.6251952427656505\n"
     ]
    }
   ],
   "source": [
    "grid_search_xgb.fit(X, y)\n",
    "\n",
    "print(grid_search_xgb.best_params_)\n",
    "print('')\n",
    "print(grid_search_xgb.best_score_)"
   ]
  },
  {
   "cell_type": "code",
   "execution_count": 5,
   "metadata": {},
   "outputs": [
    {
     "name": "stdout",
     "output_type": "stream",
     "text": [
      "R2 of the best model is 0.6252\n",
      "MSE of the best model is 1328.01\n"
     ]
    }
   ],
   "source": [
    "best_xgb= grid_search_xgb.best_estimator_\n",
    "\n",
    "from sklearn.model_selection import cross_validate\n",
    "\n",
    "xgb_cv= cross_validate(best_xgb, X, y, cv=5, scoring= ['neg_mean_squared_error', 'r2'])\n",
    "r2s_cv= xgb_cv['test_r2']\n",
    "mses_cv= abs(xgb_cv['test_neg_mean_squared_error'])\n",
    "\n",
    "print('R2 of the best model is {:.4f}'.format(np.mean(r2s_cv)))\n",
    "print('MSE of the best model is {:.2f}'.format(np.mean(mses_cv)))"
   ]
  },
  {
   "cell_type": "code",
   "execution_count": 6,
   "metadata": {},
   "outputs": [
    {
     "name": "stdout",
     "output_type": "stream",
     "text": [
      "[ 770.0495429  1071.2627128  3643.04694398  593.78573859  561.90228463]\n",
      "\n",
      "[0.72972128 0.68437241 0.27111563 0.71131005 0.72945684]\n"
     ]
    }
   ],
   "source": [
    "print(mses_cv)\n",
    "print('')\n",
    "print(r2s_cv)"
   ]
  },
  {
   "cell_type": "code",
   "execution_count": 15,
   "metadata": {},
   "outputs": [],
   "source": [
    "#plotting the result of the best model XGB\n",
    "import xgboost\n",
    "from sklearn.model_selection import cross_val_predict\n",
    "import matplotlib.pyplot as plt\n",
    "\n",
    "best_model = xgboost.XGBRegressor(learning_rate= 0.1, max_depth= 4, n_estimators= 100,\n",
    "                                 reg_lambda= 0.01, random_state= 23)\n",
    "\n",
    "# cross_val_predict returns an array of the same size as `y` where each entry\n",
    "# is a prediction obtained by cross validation:\n",
    "predicted = cross_val_predict(best_model, X, y, cv=5, n_jobs= -1)"
   ]
  },
  {
   "cell_type": "code",
   "execution_count": 21,
   "metadata": {},
   "outputs": [
    {
     "data": {
      "image/png": "[encoded data removed]",
      "text/plain": [
       "<Figure size 432x288 with 1 Axes>"
      ]
     },
     "metadata": {
      "needs_background": "light"
     },
     "output_type": "display_data"
    }
   ],
   "source": [
    "fig, ax = plt.subplots()\n",
    "ax.scatter(y, predicted, edgecolors=(0, 0, 0))\n",
    "ax.plot([y.min(), y.max()], [y.min(), y.max()], color= 'red' , lw=1)\n",
    "ax.set_xlabel('Real Price')\n",
    "ax.set_ylabel('Predicted Price')\n",
    "ax.set_title('Best Prediction vs Real Price on the whole dataset')\n",
    "plt.show()\n",
    "fig.savefig('xgbresult.png')"
   ]
  },
  {
   "cell_type": "markdown",
   "metadata": {},
   "source": [
    "## Deep Neural Networks with Pytorch"
   ]
  },
  {
   "cell_type": "code",
   "execution_count": 2,
   "metadata": {},
   "outputs": [],
   "source": [
    "#import libraries\n",
    "import torch\n",
    "import torch.nn as nn\n",
    "import torch.nn.functional as F\n",
    "import torch.optim as optim\n",
    "from torch.utils.data import DataLoader\n",
    "import numpy as np"
   ]
  },
  {
   "cell_type": "code",
   "execution_count": 3,
   "metadata": {},
   "outputs": [
    {
     "name": "stdout",
     "output_type": "stream",
     "text": [
      "Running on the GPU\n"
     ]
    }
   ],
   "source": [
    "if torch.cuda.is_available():\n",
    "    device = torch.device(\"cuda:0\")  \n",
    "    print(\"Running on the GPU\")\n",
    "else:\n",
    "    device = torch.device(\"cpu\")\n",
    "    print(\"Running on the CPU\")"
   ]
  },
  {
   "cell_type": "code",
   "execution_count": 18,
   "metadata": {},
   "outputs": [],
   "source": [
    "#Building neural net\n",
    "n_features= X.shape[1]\n",
    "\n",
    "class Net(nn.Module):\n",
    "    def __init__(self):\n",
    "        super().__init__()\n",
    "        self.fc1 = nn.Linear(n_features, 64) \n",
    "        self.fc2 = nn.Linear(64, 128) \n",
    "        self.fc3 = nn.Linear(128, 128)\n",
    "        self.fc4 = nn.Linear(128, 1)\n",
    "        \n",
    "    def forward(self, x):\n",
    "        x = F.relu(self.fc1(x)) \n",
    "        x = F.relu(self.fc2(x))\n",
    "        x = F.relu(self.fc3(x))\n",
    "        x = self.fc4(x) \n",
    "        return x\n",
    "    \n"
   ]
  },
  {
   "cell_type": "markdown",
   "metadata": {},
   "source": [
    "### Cross Valid for NN"
   ]
  },
  {
   "cell_type": "code",
   "execution_count": 19,
   "metadata": {},
   "outputs": [],
   "source": [
    "from sklearn.model_selection import KFold\n",
    "from sklearn.metrics import mean_squared_error, r2_score\n",
    "\n",
    "kfold= KFold(n_splits= 5, shuffle= False)\n",
    "\n",
    "def train(x, y, model):\n",
    "    #define para to train\n",
    "    epochs= 500\n",
    "    optimizer = optim.Adam(model.parameters(), lr=0.001)\n",
    "    criterion= nn.MSELoss()\n",
    "    #refine data\n",
    "    n_obs= y.shape[0]\n",
    "    x, y= np.array(x), np.array(y)\n",
    "    x, y= torch.Tensor(x), torch.Tensor(y).view(n_obs, 1)\n",
    "    x, y= x.to(device), y.to(device)\n",
    "    #other para\n",
    "    model.train()\n",
    "    \n",
    "    #train\n",
    "    for epoch in range(epochs):\n",
    "        yhat= model(x)\n",
    "        loss= criterion(yhat, y)\n",
    "        # Backprop and perform Adam optimisation\n",
    "        optimizer.zero_grad()\n",
    "        loss.backward()\n",
    "        optimizer.step()\n",
    "\n",
    "def test(x, y, model):\n",
    "    #refine data\n",
    "    x, y= np.array(x), np.array(y)\n",
    "    x, y= torch.Tensor(x), torch.Tensor(y)\n",
    "    x, y= x.to(device), y.to(device)\n",
    "    n_obs= y.shape[0]\n",
    "    \n",
    "    model.eval()\n",
    "    with torch.no_grad():\n",
    "        yhat= model(x) # 2-d output\n",
    "        yhat= yhat.view(n_obs) #convert to 1-d output\n",
    "        #convert back to cpu for sklearn module\n",
    "        y=y.cpu()\n",
    "        yhat= yhat.cpu()\n",
    "\n",
    "        mse= mean_squared_error(y, yhat)\n",
    "        r2= r2_score(y, yhat)\n",
    "        \n",
    "    return mse, r2\n",
    "\n",
    "def nn_cv():\n",
    "    mse_cv= []\n",
    "    r2_cv= []\n",
    "    for train_index, test_index in kfold.split(X):\n",
    "        \n",
    "        #print(\"TRAIN:\", train_index, \"TEST:\", test_index)\n",
    "        \n",
    "        train_x, test_x= X.iloc[train_index], X.iloc[test_index]\n",
    "        train_y, test_y= y.iloc[train_index], y.iloc[test_index]\n",
    "\n",
    "        net_cv= Net().to(device)\n",
    "\n",
    "        train(train_x, train_y, net_cv)\n",
    "\n",
    "        mse, r2= test(test_x, test_y, net_cv)\n",
    "        mse_cv.append(mse)\n",
    "        r2_cv.append(r2)\n",
    "        \n",
    "    return mse_cv, r2_cv"
   ]
  },
  {
   "cell_type": "code",
   "execution_count": 20,
   "metadata": {},
   "outputs": [
    {
     "name": "stdout",
     "output_type": "stream",
     "text": [
      "MSEs in each fold are:  [678.6651, 1570.0938, 3670.0557, 697.8143, 596.39246]\n",
      "\n",
      "R2s in each fold are:  [0.761796198541066, 0.5374011475928416, 0.2657118127426302, 0.6607328922556663, 0.7128506019495406]\n",
      "\n",
      "Average of MSE is: 1442.60\n",
      "Average of R2 is: 0.5877\n"
     ]
    }
   ],
   "source": [
    "mse_nn, r2_nn= nn_cv()\n",
    "\n",
    "print('MSEs in each fold are: ', mse_nn)\n",
    "print('\\nR2s in each fold are: ', r2_nn)\n",
    "print('\\nAverage of MSE is: {:.2f}\\nAverage of R2 is: {:.4f}'.format(np.mean(mse_nn), np.mean(r2_nn)))"
   ]
  },
  {
   "cell_type": "code",
   "execution_count": null,
   "metadata": {},
   "outputs": [],
   "source": []
  },
  {
   "cell_type": "markdown",
   "metadata": {},
   "source": [
    "## LightGBM"
   ]
  },
  {
   "cell_type": "code",
   "execution_count": 18,
   "metadata": {},
   "outputs": [],
   "source": [
    "import lightgbm as lgb\n",
    "from sklearn.model_selection import GridSearchCV\n",
    "\n",
    "param_grid_lgb= {\n",
    "    'max_depth': [i for i in range(3,21)],\n",
    "    'num_leaves': [i for i in range(5,30)],\n",
    "    'learning_rate': np.linspace(0.01, 0.65, 10),\n",
    "    'n_estimator': [i for i in range(100,350,50)]\n",
    "    #'n_estimator': [100,200]\n",
    "}\n",
    "\n",
    "light= lgb.LGBMRegressor(random_state= 23)\n",
    "\n",
    "grid_search_lgb= GridSearchCV(estimator= light, param_grid= param_grid_lgb, \n",
    "                         cv= 5, refit= 'r2', n_jobs= -1,\n",
    "                         scoring= ['neg_mean_squared_error', 'r2'])\n",
    "\n"
   ]
  },
  {
   "cell_type": "code",
   "execution_count": 19,
   "metadata": {},
   "outputs": [
    {
     "name": "stdout",
     "output_type": "stream",
     "text": [
      "{'learning_rate': 0.0811111111111111, 'max_depth': 8, 'n_estimator': 100, 'num_leaves': 10}\n",
      "\n",
      "0.565244685778518\n",
      "Wall time: 28min 57s\n"
     ]
    }
   ],
   "source": [
    "%%time\n",
    "grid_search_lgb.fit(X, y)\n",
    "\n",
    "print(grid_search_lgb.best_params_)\n",
    "print('')\n",
    "print(grid_search_lgb.best_score_)"
   ]
  },
  {
   "cell_type": "code",
   "execution_count": 20,
   "metadata": {},
   "outputs": [
    {
     "name": "stdout",
     "output_type": "stream",
     "text": [
      "R2 of the best model is 0.5652\n",
      "MSE of the best model is 1488.84\n"
     ]
    }
   ],
   "source": [
    "best_lgb= grid_search_lgb.best_estimator_\n",
    "\n",
    "from sklearn.model_selection import cross_validate\n",
    "\n",
    "lgb_cv= cross_validate(best_lgb, X, y, cv=5, scoring= ['neg_mean_squared_error', 'r2'])\n",
    "r2s_cv= lgb_cv['test_r2']\n",
    "mses_cv= abs(lgb_cv['test_neg_mean_squared_error'])\n",
    "\n",
    "print('R2 of the best model is {:.4f}'.format(np.mean(r2s_cv)))\n",
    "print('MSE of the best model is {:.2f}'.format(np.mean(mses_cv)))"
   ]
  },
  {
   "cell_type": "code",
   "execution_count": 21,
   "metadata": {},
   "outputs": [
    {
     "name": "stdout",
     "output_type": "stream",
     "text": [
      "[ 905.25416821 1474.64301985 3625.49271085  729.81878021  708.99935274]\n",
      "\n",
      "[0.68226597 0.56552392 0.27462781 0.64517278 0.65863295]\n"
     ]
    }
   ],
   "source": [
    "print(mses_cv)\n",
    "print('')\n",
    "print(r2s_cv)"
   ]
  },
  {
   "cell_type": "code",
   "execution_count": null,
   "metadata": {},
   "outputs": [],
   "source": []
  },
  {
   "cell_type": "code",
   "execution_count": null,
   "metadata": {},
   "outputs": [],
   "source": []
  },
  {
   "cell_type": "code",
   "execution_count": null,
   "metadata": {},
   "outputs": [],
   "source": []
  }
 ],
 "metadata": {
  "kernelspec": {
   "display_name": "Python 3",
   "language": "python",
   "name": "python3"
  },
  "language_info": {
   "codemirror_mode": {
    "name": "ipython",
    "version": 3
   },
   "file_extension": ".py",
   "mimetype": "text/x-python",
   "name": "python",
   "nbconvert_exporter": "python",
   "pygments_lexer": "ipython3",
   "version": "3.6.10"
  }
 },
 "nbformat": 4,
 "nbformat_minor": 4
}
